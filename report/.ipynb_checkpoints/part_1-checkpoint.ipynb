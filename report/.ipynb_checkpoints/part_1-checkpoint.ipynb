{
 "cells": [
  {
   "cell_type": "markdown",
   "metadata": {},
   "source": [
    "# Part 1 Semantic Search Engine: Demonstration Notebook\n",
    "\n",
    "This notebook is designed to test and demonstrate the functionality of the FastAPI-based semantic search engine.\n",
    "\n",
    "**Workflow:**\n",
    "1.  It will read compatible files (`.txt`) from a local folder `../documents`.\n",
    "2.  It will upload these files to the `/index` endpoint to be processed and indexed.\n",
    "3.  It will then allow you to run several search queries against the `/search` endpoint to see the results."
   ]
  },
  {
   "cell_type": "markdown",
   "metadata": {},
   "source": [
    "### Pre-requisites:\n",
    "\n",
    "**1. `Documents` Folder**\n",
    "* In the main directory, there is a folder called **`documents`** containing 5 '.txt' files.\n",
    "\n",
    "**2. Launch the FastAPI Server**\n",
    "* This notebook only acts as a **client**. The API server must be running in the background for this to work.\n",
    "* Open a **separate terminal**, navigate to the code directory, and run the following command:\n",
    "    ```bash\n",
    "    uvicorn main:app --reload --port 8080\n",
    "    ```\n",
    "* Keep that terminal open while you use this notebook."
   ]
  },
  {
   "cell_type": "code",
   "execution_count": 5,
   "metadata": {
    "vscode": {
     "languageId": "plaintext"
    }
   },
   "outputs": [
    {
     "name": "stdout",
     "output_type": "stream",
     "text": [
      "Setup complete. Ready to proceed.\n"
     ]
    }
   ],
   "source": [
    "import requests\n",
    "import json\n",
    "import os\n",
    "\n",
    "# The base URL of your running FastAPI application\n",
    "BASE_URL = \"http://127.0.0.1:8080\"\n",
    "DOCS_FOLDER = \"../documents\"\n",
    "\n",
    "print(\"Setup complete. Ready to proceed.\")"
   ]
  },
  {
   "cell_type": "markdown",
   "metadata": {},
   "source": [
    "**Step 1 - Index Local Documents (Code Cell)**"
   ]
  },
  {
   "cell_type": "code",
   "execution_count": 6,
   "metadata": {
    "vscode": {
     "languageId": "plaintext"
    }
   },
   "outputs": [
    {
     "name": "stdout",
     "output_type": "stream",
     "text": [
      "--- Reading and indexing all files from the '../documents' folder ---\n",
      "\n",
      "✅ Indexing successful!\n",
      "{'message': 'Successfully indexed content from 5 files.'}\n"
     ]
    }
   ],
   "source": [
    "# --- Step 1: Index Local Documents (Corrected) ---\n",
    "\n",
    "# Import the mimetypes library\n",
    "import mimetypes\n",
    "\n",
    "print(f\"--- Reading and indexing all files from the '{DOCS_FOLDER}' folder ---\")\n",
    "\n",
    "if not os.path.exists(DOCS_FOLDER):\n",
    "    print(f\"❌ Error: The '{DOCS_FOLDER}' directory was not found. Please complete the prerequisite steps.\")\n",
    "else:\n",
    "    upload_files = []\n",
    "    for filename in os.listdir(DOCS_FOLDER):\n",
    "        file_path = os.path.join(DOCS_FOLDER, filename)\n",
    "        \n",
    "        # --- FIX: Guess the content type of the file ---\n",
    "        content_type, _ = mimetypes.guess_type(file_path)\n",
    "        if content_type is None:\n",
    "            # Provide a default content type if guessing fails\n",
    "            content_type = 'application/octet-stream'\n",
    "\n",
    "        # --- FIX: Include the content_type in the upload tuple ---\n",
    "        upload_files.append(('files', (filename, open(file_path, 'rb'), content_type)))\n",
    "\n",
    "    if not upload_files:\n",
    "        print(\"❌ Error: No files found in the 'documents' folder.\")\n",
    "    else:\n",
    "        try:\n",
    "            response = requests.post(f\"{BASE_URL}/index\", files=upload_files)\n",
    "            response.raise_for_status()\n",
    "            print(\"\\n✅ Indexing successful!\")\n",
    "            print(response.json())\n",
    "        except requests.exceptions.RequestException as e:\n",
    "            print(f\"\\n❌ Error during indexing: {e}\")\n",
    "        finally:\n",
    "            for _, file_tuple in upload_files:\n",
    "                file_tuple[1].close()"
   ]
  },
  {
   "cell_type": "code",
   "execution_count": 7,
   "metadata": {
    "vscode": {
     "languageId": "plaintext"
    }
   },
   "outputs": [
    {
     "name": "stdout",
     "output_type": "stream",
     "text": [
      "\n",
      "--- Performing Search Queries ---\n",
      "\n",
      "🔎 Searching for: 'Wifi'\n",
      "✅ Results found:\n",
      "{\n",
      "  \"results\": [\n",
      "    \"The internet's origins can be traced back to the 1960s as a United States military project called ARPANET (Advanced Research Projects Agency Network). The goal was to create a decentralised, robust communications network that could withstand a nuclear attack. The first successful message was sent between two computers at UCLA and Stanford in 1969. A key innovation was packet switching, a method of breaking down data into small blocks, or packets, that could be sent independently over various routes and reassembled at the destination.\\n\\nThe 1980s saw the standardisation of the TCP/IP protocol, which remains the fundamental communication language of the internet. However, it was the invention of the World Wide Web by British scientist Tim Berners-Lee at CERN in 1990 that transformed the internet from a niche academic and military tool into a global platform for information sharing. He developed HTML, URLs, and HTTP, the foundational technologies for creating and accessing websites. The release of the first user-friendly web browser, Mosaic, in 1993, made the web accessible to the general public, sparking a boom that led to the commercialised, ubiquitous internet we know today.\"\n",
      "  ]\n",
      "}\n",
      "\n",
      "🔎 Searching for: 'Ocean'\n",
      "✅ Results found:\n",
      "{\n",
      "  \"results\": [\n",
      "    \"The Great Barrier Reef, located off the coast of Queensland, Australia, is the world's largest coral reef system. Composed of over 2,900 individual reefs and 900 islands stretching for over 2,300 kilometres, it is one of the seven natural wonders of the world and a UNESCO World Heritage Site. This vibrant ecosystem is a biodiversity hotspot, providing a home to thousands of species of fish, corals, molluscs, and other marine life.\\n\\nUnfortunately, the reef is under severe threat from climate change. Rising ocean temperatures have led to widespread coral bleaching events, where the corals expel the symbiotic algae living in their tissues, causing them to turn completely white. While corals can recover from bleaching if temperatures return to normal, prolonged thermal stress leads to mortality. Ocean acidification, another consequence of increased carbon dioxide in the atmosphere, also hinders the corals' ability to build their skeletons. Local threats such as pollution from agricultural runoff and overfishing further compound these issues, making the ecosystem more vulnerable. Conservation efforts are underway, focusing on improving water quality, managing tourism, and researching more resilient coral species, but global action on climate change is considered the most critical factor for its long-term survival.\"\n",
      "  ]\n",
      "}\n",
      "\n",
      "🔎 Searching for: 'Interstellar'\n",
      "✅ Results found:\n",
      "{\n",
      "  \"results\": [\n",
      "    \"A black hole is a region of spacetime where gravity is so strong that nothing\\u2014no particles or even electromagnetic radiation such as light\\u2014can escape from it. The theory of general relativity predicts that a sufficiently compact mass can deform spacetime to form a black hole. They are typically formed from the remnants of massive stars that die in a supernova explosion. If the core's mass is great enough, gravity overwhelms all other forces and collapses the core into an infinitely dense point known as a singularity.\\n\\nThe boundary beyond which escape is impossible is called the event horizon. It is not a physical surface, but rather a one-way membrane; objects can fall into it, but nothing can ever come out. The gravitational pull is so immense because all the object's mass is concentrated in the singularity. This extreme mass warps spacetime around it, creating a deep \\\"gravitational well.\\\" Time itself is distorted near a black hole, with time passing more slowly for an observer closer to the event horizon compared to an observer farther away. While we cannot see black holes directly, we can infer their presence by observing their effect on nearby matter, such as stars orbiting an empty point in space.\"\n",
      "  ]\n",
      "}\n",
      "\n",
      "🔎 Searching for: 'Medival history'\n",
      "✅ Results found:\n",
      "{\n",
      "  \"results\": [\n",
      "    \"The Industrial Revolution was a period of profound technological and social change that began in Great Britain in the late 18th century and spread throughout the world. It marked the transition from agrarian, handicraft-based economies to economies dominated by industry and machine manufacturing. This transformation was driven by a series of key inventions, most notably the steam engine, perfected by James Watt, which provided a new source of power for factories and transportation.\\n\\nThe impact on society was immense. The rise of the factory system led to mass migration from rural areas to urban centres, resulting in the rapid growth of cities. While this created new economic opportunities, it also led to difficult living and working conditions for many, with long hours, low wages, and overcrowded housing. The era also saw the emergence of a new social structure, with a growing industrial working class and a new middle class of factory owners, engineers, and professionals. The Industrial Revolution fundamentally reshaped the modern world, setting the stage for subsequent technological advancements and the global capitalist economy.\"\n",
      "  ]\n",
      "}\n",
      "\n",
      "🔎 Searching for: 'Money'\n",
      "✅ Results found:\n",
      "{\n",
      "  \"results\": [\n",
      "    \"A cryptocurrency is a digital or virtual currency that is secured by cryptography, making it nearly impossible to counterfeit or double-spend. Many cryptocurrencies are decentralised networks based on blockchain technology\\u2014a distributed ledger enforced by a disparate network of computers. A defining feature of cryptocurrencies is that they are generally not issued by any central authority, rendering them theoretically immune to government interference or manipulation.\\n\\nThe first and most famous cryptocurrency is Bitcoin, created in 2009 by an anonymous entity known as Satoshi Nakamoto. The blockchain is the public ledger of all Bitcoin transactions. Transactions are recorded in \\\"blocks\\\" and added to the \\\"chain\\\" in a chronological and unalterable way. This process is secured by \\\"mining,\\\" where powerful computers solve complex mathematical problems to validate transactions and are rewarded with new Bitcoin. This decentralised and transparent system allows for peer-to-peer financial transactions without the need for a traditional intermediary like a bank. While Bitcoin remains the most well-known, thousands of alternative cryptocurrencies have been created with various functions and specifications.\"\n",
      "  ]\n",
      "}\n"
     ]
    }
   ],
   "source": [
    "print(\"\\n--- Performing Search Queries ---\")\n",
    "\n",
    "queries = [\n",
    "    \"Wifi\",\n",
    "    \"Ocean\",\n",
    "    \"Interstellar\",\n",
    "    \"Medival history\",\n",
    "    \"Money\"\n",
    "]\n",
    "\n",
    "for query in queries:\n",
    "    print(f\"\\n🔎 Searching for: '{query}'\")\n",
    "    try:\n",
    "        response = requests.get(f\"{BASE_URL}/search\", params={'query': query})\n",
    "        response.raise_for_status()\n",
    "        results = response.json()\n",
    "        print(\"✅ Results found:\")\n",
    "        print(json.dumps(results, indent=2))\n",
    "    except requests.exceptions.RequestException as e:\n",
    "        print(f\"❌ Error during search: {e}\")"
   ]
  },
  {
   "cell_type": "code",
   "execution_count": null,
   "metadata": {},
   "outputs": [],
   "source": []
  },
  {
   "cell_type": "code",
   "execution_count": null,
   "metadata": {},
   "outputs": [],
   "source": []
  }
 ],
 "metadata": {
  "kernelspec": {
   "display_name": "Python 3 (ipykernel)",
   "language": "python",
   "name": "python3"
  },
  "language_info": {
   "codemirror_mode": {
    "name": "ipython",
    "version": 3
   },
   "file_extension": ".py",
   "mimetype": "text/x-python",
   "name": "python",
   "nbconvert_exporter": "python",
   "pygments_lexer": "ipython3",
   "version": "3.12.5"
  }
 },
 "nbformat": 4,
 "nbformat_minor": 4
}
