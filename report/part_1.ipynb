{
 "cells": [
  {
   "cell_type": "markdown",
   "metadata": {},
   "source": [
    "# Part 1 Semantic Search Engine: Demonstration Notebook\n",
    "\n",
    "This notebook is designed to test and demonstrate the functionality of the FastAPI-based semantic search engine.\n",
    "\n",
    "**Workflow:**\n",
    "1.  It will read all compatible files (`.txt`, `.pdf`, `.docx`) from a local folder named `documents`.\n",
    "2.  It will upload these files to the `/index` endpoint to be processed and indexed.\n",
    "3.  It will then allow you to run several search queries against the `/search` endpoint to see the results."
   ]
  },
  {
   "cell_type": "markdown",
   "metadata": {},
   "source": [
    "### Before You Begin, Please Complete These Two Steps:\n",
    "\n",
    "**1. Create Your `documents` Folder**\n",
    "* In the same directory as this notebook, create a folder named **`documents`**.\n",
    "* Place the files you want to search inside this folder. The API can handle `.txt`, `.pdf`, and `.docx` files.\n",
    "\n",
    "**2. Launch the FastAPI Server**\n",
    "* This notebook only acts as a **client**. The API server must be running in the background for this to work.\n",
    "* Open a **separate terminal**, navigate to your project directory, and run the following command:\n",
    "    ```bash\n",
    "    uvicorn main:app --reload\n",
    "    ```\n",
    "* Keep that terminal open while you use this notebook."
   ]
  },
  {
   "cell_type": "code",
   "execution_count": null,
   "metadata": {
    "vscode": {
     "languageId": "plaintext"
    }
   },
   "outputs": [],
   "source": [
    "import requests\n",
    "import json\n",
    "import os\n",
    "\n",
    "# The base URL of your running FastAPI application\n",
    "BASE_URL = \"http://127.0.0.1:8000\"\n",
    "DOCS_FOLDER = \"documents\"\n",
    "\n",
    "print(\"Setup complete. Ready to proceed.\")"
   ]
  },
  {
   "cell_type": "markdown",
   "metadata": {},
   "source": [
    "**Step 1 - Index Local Documents (Code Cell)**"
   ]
  },
  {
   "cell_type": "code",
   "execution_count": null,
   "metadata": {
    "vscode": {
     "languageId": "plaintext"
    }
   },
   "outputs": [],
   "source": [
    "print(f\"--- Reading and indexing all files from the '{DOCS_FOLDER}' folder ---\")\n",
    "\n",
    "# Check if the documents folder exists\n",
    "if not os.path.exists(DOCS_FOLDER):\n",
    "    print(f\"❌ Error: The '{DOCS_FOLDER}' directory was not found. Please complete the prerequisite steps.\")\n",
    "else:\n",
    "    # Prepare the list of files to upload\n",
    "    upload_files = []\n",
    "    for filename in os.listdir(DOCS_FOLDER):\n",
    "        file_path = os.path.join(DOCS_FOLDER, filename)\n",
    "        # Open each file in binary read mode\n",
    "        upload_files.append(('files', (filename, open(file_path, 'rb'))))\n",
    "\n",
    "    if not upload_files:\n",
    "        print(\"❌ Error: No files found in the 'documents' folder.\")\n",
    "    else:\n",
    "        try:\n",
    "            # Make the POST request to the /index endpoint\n",
    "            response = requests.post(f\"{BASE_URL}/index\", files=upload_files)\n",
    "            response.raise_for_status()  # Raise an exception for bad status codes\n",
    "            print(\"\\n✅ Indexing successful!\")\n",
    "            print(response.json())\n",
    "        except requests.exceptions.RequestException as e:\n",
    "            print(f\"\\n❌ Error during indexing: {e}\")\n",
    "        finally:\n",
    "            # Important: Close the files after the request is made\n",
    "            for _, file_tuple in upload_files:\n",
    "                file_tuple[1].close()"
   ]
  },
  {
   "cell_type": "code",
   "execution_count": null,
   "metadata": {
    "vscode": {
     "languageId": "plaintext"
    }
   },
   "outputs": [],
   "source": [
    "print(\"\\n--- Performing Search Queries ---\")\n",
    "\n",
    "# TODO: Customize these queries to match the content of your documents!\n",
    "queries = [\n",
    "    \"what is the main theme of the documents?\",\n",
    "    \"find information about technology\",\n",
    "    \"tell me about history\",\n",
    "    \"what is the most recent event mentioned?\"\n",
    "]\n",
    "\n",
    "for query in queries:\n",
    "    print(f\"\\n🔎 Searching for: '{query}'\")\n",
    "    try:\n",
    "        response = requests.get(f\"{BASE_URL}/search\", params={'query': query})\n",
    "        response.raise_for_status()\n",
    "        results = response.json()\n",
    "        print(\"✅ Results found:\")\n",
    "        print(json.dumps(results, indent=2))\n",
    "    except requests.exceptions.RequestException as e:\n",
    "        print(f\"❌ Error during search: {e}\")"
   ]
  }
 ],
 "metadata": {
  "language_info": {
   "name": "python"
  },
  "orig_nbformat": 4
 },
 "nbformat": 4,
 "nbformat_minor": 2
}
