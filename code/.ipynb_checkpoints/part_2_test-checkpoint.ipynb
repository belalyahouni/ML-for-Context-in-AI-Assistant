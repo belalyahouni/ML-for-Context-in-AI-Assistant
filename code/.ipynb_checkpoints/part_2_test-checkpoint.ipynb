{
 "cells": [
  {
   "cell_type": "markdown",
   "id": "5304d98a",
   "metadata": {},
   "source": [
    "# 🧠 Part 2: Evaluation — Code Search Engine on CoSQA Dataset\n",
    "In this notebook, we will evaluate our search engine on the [CoSQA dataset](https://huggingface.co/datasets/CoIR-Retrieval/cosqa) using the following ranking metrics:\n",
    "- **Recall@10**\n",
    "- **MRR@10 (Mean Reciprocal Rank)**\n",
    "- **nDCG@10 (Normalized Discounted Cumulative Gain)**"
   ]
  },
  {
   "cell_type": "markdown",
   "id": "d82297f1",
   "metadata": {},
   "source": [
    "## 🔧 Setup & Imports\n",
    "We’ll import the necessary modules, including the dataset loader, the search engine, and helper libraries."
   ]
  },
  {
   "cell_type": "code",
   "execution_count": null,
   "id": "a2f37296",
   "metadata": {},
   "outputs": [
    {
     "ename": "",
     "evalue": "",
     "output_type": "error",
     "traceback": [
      "\u001b[1;31mJupyter cannot be started. Error attempting to locate Jupyter: Running cells with 'Python 3.12.3 64-bit' requires jupyter and notebook package.\n",
      "\u001b[1;31mRun the following command to install 'jupyter and notebook' into the Python environment. \n",
      "\u001b[1;31mCommand: 'python -m pip install jupyter notebook -U\n",
      "\u001b[1;31mor\n",
      "\u001b[1;31mconda install jupyter notebook -U'\n",
      "\u001b[1;31mClick <a href='https://aka.ms/installJupyterForVSCode'>here</a> for more info."
     ]
    }
   ],
   "source": [
    "from datasets import load_dataset\n",
    "import json\n",
    "from search_engine import Search\n",
    "from collections import defaultdict\n",
    "from typing import List, Set\n",
    "import numpy as np"
   ]
  },
  {
   "cell_type": "markdown",
   "id": "3e3a219a",
   "metadata": {},
   "source": [
    "## 📏 Define Evaluation Metrics\n",
    "We implement the three required metrics below."
   ]
  },
  {
   "cell_type": "code",
   "execution_count": null,
   "id": "a8887b93",
   "metadata": {},
   "outputs": [
    {
     "ename": "",
     "evalue": "",
     "output_type": "error",
     "traceback": [
      "\u001b[1;31mJupyter cannot be started. Error attempting to locate Jupyter: Running cells with 'Python 3.12.3 64-bit' requires jupyter and notebook package.\n",
      "\u001b[1;31mRun the following command to install 'jupyter and notebook' into the Python environment. \n",
      "\u001b[1;31mCommand: 'python -m pip install jupyter notebook -U\n",
      "\u001b[1;31mor\n",
      "\u001b[1;31mconda install jupyter notebook -U'\n",
      "\u001b[1;31mClick <a href='https://aka.ms/installJupyterForVSCode'>here</a> for more info."
     ]
    }
   ],
   "source": [
    "def calculate_recall_at_10(found_ids: List[str], correct_ids: Set[str]) -> int:\n",
    "    \"\"\"\n",
    "    Calculates Recall@10.\n",
    "    Returns 1 if any of the correct IDs are in the found_ids list, otherwise 0.\n",
    "    \"\"\"\n",
    "    return 1 if not set(found_ids).isdisjoint(correct_ids) else 0\n",
    "\n",
    "def calculate_mrr_at_10(found_ids: List[str], correct_ids: Set[str]) -> float:\n",
    "    \"\"\"\n",
    "    Calculates Mean Reciprocal Rank @ 10.\n",
    "    Finds the rank of the first correct document and returns 1/rank.\n",
    "    \"\"\"\n",
    "    for i, found_id in enumerate(found_ids):\n",
    "        if found_id in correct_ids:\n",
    "            return 1 / (i + 1)\n",
    "    return 0.0\n",
    "\n",
    "def calculate_ndcg_at_10(found_ids: List[str], correct_ids: Set[str]) -> float:\n",
    "    \"\"\"\n",
    "    Calculates normalized Discounted Cumulative Gain @ 10.\n",
    "    This metric considers the position of all relevant documents.\n",
    "    \"\"\"\n",
    "    dcg = 0.0\n",
    "    for i, found_id in enumerate(found_ids):\n",
    "        if found_id in correct_ids:\n",
    "            dcg += 1 / np.log2(i + 2)\n",
    "\n",
    "    idcg = 0.0\n",
    "    num_correct = min(len(correct_ids), 10)\n",
    "    for i in range(num_correct):\n",
    "        idcg += 1 / np.log2(i + 2)\n",
    "\n",
    "    return dcg / idcg if idcg > 0 else 0.0"
   ]
  },
  {
   "cell_type": "markdown",
   "id": "552ed91f",
   "metadata": {},
   "source": [
    "## 📚 Load the CoSQA Dataset\n",
    "We will load the corpus (documents), queries, and test set using the Hugging Face `datasets` library."
   ]
  },
  {
   "cell_type": "code",
   "execution_count": null,
   "id": "838330b6",
   "metadata": {},
   "outputs": [
    {
     "ename": "",
     "evalue": "",
     "output_type": "error",
     "traceback": [
      "\u001b[1;31mJupyter cannot be started. Error attempting to locate Jupyter: Running cells with 'Python 3.12.3 64-bit' requires jupyter and notebook package.\n",
      "\u001b[1;31mRun the following command to install 'jupyter and notebook' into the Python environment. \n",
      "\u001b[1;31mCommand: 'python -m pip install jupyter notebook -U\n",
      "\u001b[1;31mor\n",
      "\u001b[1;31mconda install jupyter notebook -U'\n",
      "\u001b[1;31mClick <a href='https://aka.ms/installJupyterForVSCode'>here</a> for more info."
     ]
    }
   ],
   "source": [
    "corpus_dataset = load_dataset(\"CoIR-Retrieval/cosqa\", \"corpus\", split=\"corpus\")\n",
    "print(f\"Corpus loaded with {len(corpus_dataset)} documents.\")\n",
    "\n",
    "queries_dataset = load_dataset(\"CoIR-Retrieval/cosqa\", \"queries\", split=\"queries\")\n",
    "print(f\"Queries loaded with {len(queries_dataset)} queries.\")\n",
    "\n",
    "eval_dataset = load_dataset(\"CoIR-Retrieval/cosqa\", name=\"default\", split=\"test\")\n",
    "print(f\"Evaluation 'test' split loaded with {len(eval_dataset)} query-document pairs.\")"
   ]
  },
  {
   "cell_type": "markdown",
   "id": "c080dc5f",
   "metadata": {},
   "source": [
    "## 🧩 Prepare the Data and Search Engine\n",
    "We extract text and IDs from the corpus, then build the search index using the `Search` class you implemented earlier."
   ]
  },
  {
   "cell_type": "code",
   "execution_count": null,
   "id": "75cfc746",
   "metadata": {},
   "outputs": [
    {
     "ename": "",
     "evalue": "",
     "output_type": "error",
     "traceback": [
      "\u001b[1;31mJupyter cannot be started. Error attempting to locate Jupyter: Running cells with 'Python 3.12.3 64-bit' requires jupyter and notebook package.\n",
      "\u001b[1;31mRun the following command to install 'jupyter and notebook' into the Python environment. \n",
      "\u001b[1;31mCommand: 'python -m pip install jupyter notebook -U\n",
      "\u001b[1;31mor\n",
      "\u001b[1;31mconda install jupyter notebook -U'\n",
      "\u001b[1;31mClick <a href='https://aka.ms/installJupyterForVSCode'>here</a> for more info."
     ]
    }
   ],
   "source": [
    "documents = [item['text'] for item in corpus_dataset]\n",
    "doc_ids = [item['_id'] for item in corpus_dataset]\n",
    "\n",
    "search_instance = Search()\n",
    "print(\"Building the search index... (This may take a while)\")\n",
    "search_instance.index(documents=documents, doc_ids=doc_ids)\n",
    "print(\"\\nIndexing complete! Your search engine is ready.\")"
   ]
  },
  {
   "cell_type": "markdown",
   "id": "466e8224",
   "metadata": {},
   "source": [
    "## 🚀 Evaluation Loop\n",
    "We will now test each query from the test set, perform a search, and compute the metrics for each."
   ]
  },
  {
   "cell_type": "code",
   "execution_count": null,
   "id": "30a78836",
   "metadata": {},
   "outputs": [
    {
     "ename": "",
     "evalue": "",
     "output_type": "error",
     "traceback": [
      "\u001b[1;31mJupyter cannot be started. Error attempting to locate Jupyter: Running cells with 'Python 3.12.3 64-bit' requires jupyter and notebook package.\n",
      "\u001b[1;31mRun the following command to install 'jupyter and notebook' into the Python environment. \n",
      "\u001b[1;31mCommand: 'python -m pip install jupyter notebook -U\n",
      "\u001b[1;31mor\n",
      "\u001b[1;31mconda install jupyter notebook -U'\n",
      "\u001b[1;31mClick <a href='https://aka.ms/installJupyterForVSCode'>here</a> for more info."
     ]
    }
   ],
   "source": [
    "recall_scores = []\n",
    "mrr_scores = []\n",
    "ndcg_scores = []\n",
    "\n",
    "queries_map = {item['_id']: item['text'] for item in queries_dataset}\n",
    "\n",
    "ground_truth = defaultdict(set)\n",
    "for item in eval_dataset:\n",
    "    ground_truth[item['query-id']].add(item['corpus-id'])\n",
    "\n",
    "test_query_ids = sorted(list(ground_truth.keys()))\n",
    "print(f\"Found {len(test_query_ids)} unique queries to test.\")\n",
    "\n",
    "for i, query_id in enumerate(test_query_ids):\n",
    "    query_text = queries_map.get(query_id)\n",
    "    if not query_text:\n",
    "        continue\n",
    "\n",
    "    correct_doc_ids = ground_truth[query_id]\n",
    "    found_doc_ids = search_instance.search(query=query_text, top_k=10, return_ids=True)\n",
    "\n",
    "    recall_scores.append(calculate_recall_at_10(found_doc_ids, correct_doc_ids))\n",
    "    mrr_scores.append(calculate_mrr_at_10(found_doc_ids, correct_doc_ids))\n",
    "    ndcg_scores.append(calculate_ndcg_at_10(found_doc_ids, correct_doc_ids))\n",
    "\n",
    "    if (i + 1) % 50 == 0:\n",
    "        print(f\"  ...processed {i+1}/{len(test_query_ids)} queries\")"
   ]
  },
  {
   "cell_type": "markdown",
   "id": "0eba3968",
   "metadata": {},
   "source": [
    "## 🧮 Compute Final Metrics\n",
    "After looping through all queries, we compute and print the average results."
   ]
  },
  {
   "cell_type": "code",
   "execution_count": null,
   "id": "f9d6d488",
   "metadata": {},
   "outputs": [
    {
     "ename": "",
     "evalue": "",
     "output_type": "error",
     "traceback": [
      "\u001b[1;31mJupyter cannot be started. Error attempting to locate Jupyter: Running cells with 'Python 3.12.3 64-bit' requires jupyter and notebook package.\n",
      "\u001b[1;31mRun the following command to install 'jupyter and notebook' into the Python environment. \n",
      "\u001b[1;31mCommand: 'python -m pip install jupyter notebook -U\n",
      "\u001b[1;31mor\n",
      "\u001b[1;31mconda install jupyter notebook -U'\n",
      "\u001b[1;31mClick <a href='https://aka.ms/installJupyterForVSCode'>here</a> for more info."
     ]
    }
   ],
   "source": [
    "if recall_scores:\n",
    "    final_recall = np.mean(recall_scores)\n",
    "    final_mrr = np.mean(mrr_scores)\n",
    "    final_ndcg = np.mean(ndcg_scores)\n",
    "\n",
    "    print(\"\\n✅ Evaluation complete.\")\n",
    "    print(\"\\n--- FINAL RESULTS ---\")\n",
    "    print(f\"Recall@10: {final_recall:.4f}\")\n",
    "    print(f\"MRR@10:    {final_mrr:.4f}\")\n",
    "    print(f\"nDCG@10:   {final_ndcg:.4f}\")\n",
    "else:\n",
    "    print(\"\\nEvaluation could not be completed.\")"
   ]
  }
 ],
 "metadata": {
  "kernelspec": {
   "display_name": "Python 3.12.3 64-bit",
   "language": "python",
   "name": "python3"
  },
  "language_info": {
   "name": "python",
   "version": "3.12.3"
  },
  "vscode": {
   "interpreter": {
    "hash": "31f2aee4e71d21fbe5cf8b01ff0e069b9275f58929596ceb00d14d90e3e16cd6"
   }
  }
 },
 "nbformat": 4,
 "nbformat_minor": 5
}
